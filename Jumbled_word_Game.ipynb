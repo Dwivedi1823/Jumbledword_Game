{
 "cells": [
  {
   "cell_type": "code",
   "execution_count": null,
   "metadata": {},
   "outputs": [],
   "source": [
    "import random"
   ]
  },
  {
   "cell_type": "code",
   "execution_count": null,
   "metadata": {},
   "outputs": [],
   "source": [
    "def jumble_word(word):\n",
    "    jumbled=\"\".join(random.sample(word,len(word)))\n",
    "    return jumbled"
   ]
  },
  {
   "cell_type": "code",
   "execution_count": null,
   "metadata": {},
   "outputs": [],
   "source": [
    "def choose():\n",
    "    words=[\"PIYUSH\",\"ASHISH\",\"ANKIT\",\"RAJEEV\",\"MAYANK\",\"PURNAVILLA\",\"VIRAT\",\"KESTOPUR\",\"MAKAUT\"]\n",
    "    pick=random.choice(words)\n",
    "    return pick"
   ]
  },
  {
   "cell_type": "code",
   "execution_count": null,
   "metadata": {},
   "outputs": [],
   "source": [
    "def Thanks(p1,p2,pp1,pp2):\n",
    "    print(p1,\"Your score is: \",pp1)\n",
    "    print(\"And\")\n",
    "    print(p2,\"Your score is: \",pp2)\n",
    "    print(\"Thanks for playing!\")\n",
    "    print(\"Have a nice day!\")"
   ]
  },
  {
   "cell_type": "code",
   "execution_count": null,
   "metadata": {},
   "outputs": [],
   "source": [
    "def Play():\n",
    "    p1=input(\"Player 1, Please enter your name!\")\n",
    "    p2=input(\"Player 2, Please enter your name!\")\n",
    "    pp1=pp2=0\n",
    "    turn =0\n",
    "    while(1):\n",
    "        if turn%2==0:\n",
    "            \n",
    "            picked_word=choose()\n",
    "            jumbled_word=jumble_word(picked_word)\n",
    "            print(p1,\" Be ready!\")\n",
    "            print(\"The jumbled word is being printed.\")\n",
    "            print(\"Jumbled word : \", jumbled_word)\n",
    "            \n",
    "            ans1=input(\"Enter your answer\")\n",
    "            \n",
    "            if(ans1==picked_word):\n",
    "                print(\"Hurrah! You got it right man.\")\n",
    "                pp1=pp1+1\n",
    "            else:\n",
    "                print(\"I thought the word is \",picked_word)\n",
    "                print(\"Better luck next time.\")\n",
    "            \n",
    "            print(\"Your score is :\",pp1)\n",
    "\n",
    "            print(\"Dear\",p1,\"do you want to continue ?\")\n",
    "            c=int(input(\"Enter 1 to continue and 0 to quit.\"))\n",
    "            if(c==0):\n",
    "                Thanks(p1,p2,pp1,pp2)\n",
    "                break\n",
    "                \n",
    "        else:\n",
    "            picked_word=choose()\n",
    "            jumbled_word=jumble_word(picked_word)\n",
    "            print(p2,\" Be ready!\")\n",
    "            print(\"The jumbled word is being printed.\")\n",
    "            print(\"Jumbled word : \", jumbled_word)\n",
    "            \n",
    "            ans2=input(\"Enter your answer\")\n",
    "            \n",
    "            if(ans2==picked_word):\n",
    "                print(\"Hurrah! You got it right man.\")\n",
    "                pp2=pp2+1\n",
    "            else:\n",
    "                print(\"I thought the word is \",picked_word)\n",
    "                print(\"Better luck next time.\")\n",
    "                \n",
    "            print(\"Your score is :\",pp2)\n",
    "\n",
    "            print(\"Dear\",p2,\"do you want to continue ?\")\n",
    "            c=int(input(\"Enter 1 to continue and 0 to quit.\"))\n",
    "            if(c==0):\n",
    "                Thanks(p1,p2,pp1,pp2)\n",
    "                break\n",
    "                \n",
    "        turn=turn+1"
   ]
  }
 ],
 "metadata": {
  "kernelspec": {
   "display_name": "Python 3",
   "language": "python",
   "name": "python3"
  },
  "language_info": {
   "codemirror_mode": {
    "name": "ipython",
    "version": 3
   },
   "file_extension": ".py",
   "mimetype": "text/x-python",
   "name": "python",
   "nbconvert_exporter": "python",
   "pygments_lexer": "ipython3",
   "version": "3.7.6"
  }
 },
 "nbformat": 4,
 "nbformat_minor": 4
}
