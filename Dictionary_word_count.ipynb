{
 "cells": [
  {
   "cell_type": "code",
   "execution_count": 10,
   "metadata": {},
   "outputs": [
    {
     "name": "stdout",
     "output_type": "stream",
     "text": [
      "Enter a line to count: \n",
      "My name is Piyush\n"
     ]
    }
   ],
   "source": [
    "counts=dict()\n",
    "print(\"Enter a line to count: \")\n",
    "line=input(\"\")\n",
    "\n"
   ]
  },
  {
   "cell_type": "code",
   "execution_count": 11,
   "metadata": {},
   "outputs": [
    {
     "name": "stdout",
     "output_type": "stream",
     "text": [
      "Words= ['My', 'name', 'is', 'Piyush']\n"
     ]
    }
   ],
   "source": [
    "words = line.split()\n",
    "\n",
    "print(\"Words=\", words)"
   ]
  },
  {
   "cell_type": "code",
   "execution_count": 12,
   "metadata": {},
   "outputs": [
    {
     "name": "stdout",
     "output_type": "stream",
     "text": [
      "Counting.....\n",
      "counts {'My': 1, 'name': 1, 'is': 1, 'Piyush': 1}\n"
     ]
    }
   ],
   "source": [
    "print(\"Counting.....\")\n",
    "for word in words:\n",
    "    counts[word]=counts.get(word,0)+1\n",
    "print(\"counts\", counts)"
   ]
  },
  {
   "cell_type": "code",
   "execution_count": null,
   "metadata": {},
   "outputs": [],
   "source": []
  }
 ],
 "metadata": {
  "kernelspec": {
   "display_name": "Python 3",
   "language": "python",
   "name": "python3"
  },
  "language_info": {
   "codemirror_mode": {
    "name": "ipython",
    "version": 3
   },
   "file_extension": ".py",
   "mimetype": "text/x-python",
   "name": "python",
   "nbconvert_exporter": "python",
   "pygments_lexer": "ipython3",
   "version": "3.7.6"
  }
 },
 "nbformat": 4,
 "nbformat_minor": 4
}
